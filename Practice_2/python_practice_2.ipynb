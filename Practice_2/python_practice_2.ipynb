{
 "nbformat": 4,
 "nbformat_minor": 0,
 "metadata": {
  "colab": {
   "provenance": []
  },
  "kernelspec": {
   "name": "python3",
   "language": "python",
   "display_name": "Python 3 (ipykernel)"
  },
  "language_info": {
   "name": "python"
  }
 },
 "cells": [
  {
   "cell_type": "markdown",
   "source": [
    "# I. Змінні та памʼять."
   ],
   "metadata": {
    "id": "p9wwt0LZzNvn"
   }
  },
  {
   "cell_type": "markdown",
   "source": [
    "1. Створити змінні, що посилаються на два цілих числа, що однакові за значенням, де значення належить проміжку від -5 до 256. Перевірте, чи будуть ці змінні рівні тільки за значенням або ж ще будуть посилатися на один і той самий обʼєкт в памʼяті? Наведіть код та дайте текстову відповідь нижче."
   ],
   "metadata": {
    "id": "HTJrrm95xSV9"
   }
  },
  {
   "cell_type": "code",
   "execution_count": 116,
   "metadata": {
    "id": "TATni2vzayjG",
    "ExecuteTime": {
     "end_time": "2024-02-08T14:15:01.403372Z",
     "start_time": "2024-02-08T14:15:01.334734Z"
    }
   },
   "outputs": [
    {
     "name": "stdout",
     "output_type": "stream",
     "text": [
      "Is 25 == 25 -->  True\n",
      "Whether the memory cells are identical -->  True\n"
     ]
    }
   ],
   "source": [
    "num_1 = 25\n",
    "num_2 = 25\n",
    "print(\"Is 25 == 25 --> \", num_1 == num_2)\n",
    "print(\"Whether the memory cells are identical --> \", id(num_1) == id(num_2))"
   ]
  },
  {
   "cell_type": "markdown",
   "source": [
    "Ці змінні будуть рівними як за значенням, так і за посиланням на об'єкт в пам'яті. Це відбувається, бо в пайтоні для оптимізації захардкодили значення від -5 до 256."
   ],
   "metadata": {
    "id": "zfRG_o3WbRdg"
   }
  },
  {
   "cell_type": "markdown",
   "source": [
    "2. За допомогою якої функції можна перевірити належність змінної до вказаного типу даних (напр. чи змінна True посилається на значення булевого та цілочисленого типу)?"
   ],
   "metadata": {
    "id": "ISORzt6M3vAt"
   }
  },
  {
   "cell_type": "code",
   "source": [
    "print(\"True variable refers to a Boolean value --> \", isinstance(True, bool))\n",
    "print(\"True variable refers to a Integer value --> \", isinstance(True, int))"
   ],
   "metadata": {
    "id": "9vL9CFaMbfyo",
    "ExecuteTime": {
     "end_time": "2024-02-08T14:15:01.441721Z",
     "start_time": "2024-02-08T14:15:01.406767Z"
    }
   },
   "execution_count": 117,
   "outputs": [
    {
     "name": "stdout",
     "output_type": "stream",
     "text": [
      "True variable refers to a Boolean value -->  True\n",
      "True variable refers to a Integer value -->  True\n"
     ]
    }
   ]
  },
  {
   "cell_type": "markdown",
   "source": [
    "# II. Цілі числа та числа з рухомою комою"
   ],
   "metadata": {
    "id": "tRxugKAxwYLw"
   }
  },
  {
   "cell_type": "markdown",
   "source": [
    "3. Створити дві змінні, що посилаються на будь-які ціле число та число з рухомою комою та продемонструвати такі арифметичні операції: додавання, віднімання, ділення, множення, ділення без залишку, ділення по модулю, приведення до ступеню. Всі результати операцій вивести на екран."
   ],
   "metadata": {
    "id": "NLHkgd5Gybc8"
   }
  },
  {
   "cell_type": "code",
   "source": [
    "int_num = 25\n",
    "float_num = 5.7\n",
    "print(\"25 + 5.7 --> \", int_num + float_num)\n",
    "print(\"25 - 5.7 --> \", int_num - float_num)\n",
    "print(\"25 / 5.7 --> \", int_num / float_num)\n",
    "print(\"25 * 5.7 --> \", int_num * float_num)\n",
    "print(\"25 // 5.7 --> \", int_num // float_num)\n",
    "print(\"25 % 5.7 --> \", int_num % float_num)\n",
    "print(\"25 ^ 2 --> \", int_num ** 2)\n",
    "print(\"5.7 ^ 2 --> \", float_num ** 2)"
   ],
   "metadata": {
    "id": "nb8u_3pjb2cA",
    "ExecuteTime": {
     "end_time": "2024-02-08T14:15:01.490371Z",
     "start_time": "2024-02-08T14:15:01.444405Z"
    }
   },
   "execution_count": 118,
   "outputs": [
    {
     "name": "stdout",
     "output_type": "stream",
     "text": [
      "25 + 5.7 -->  30.7\n",
      "25 - 5.7 -->  19.3\n",
      "25 / 5.7 -->  4.385964912280701\n",
      "25 * 5.7 -->  142.5\n",
      "25 // 5.7 -->  4.0\n",
      "25 % 5.7 -->  2.1999999999999993\n",
      "25 ^ 2 -->  625\n",
      "5.7 ^ 2 -->  32.49\n"
     ]
    }
   ]
  },
  {
   "cell_type": "markdown",
   "source": [
    "4. Використовуючи змінні з вправи 3, продемонструйте механізм явного перетворення типів, де числа з рухомою комою перетворюються на цілі числа. Також визначте змінну, що посилається на значення булевого типу і спробуйте явно привести її до цілого числа."
   ],
   "metadata": {
    "id": "1kBClKgPzZnC"
   }
  },
  {
   "cell_type": "code",
   "source": [
    "bool_num = True\n",
    "int_num = int(float_num)\n",
    "print(\"Float to int --> \", int_num)\n",
    "int_num = int(bool_num)\n",
    "print(\"Bool to int --> \", int_num)"
   ],
   "metadata": {
    "id": "TbqJbkeUcKsD",
    "ExecuteTime": {
     "end_time": "2024-02-08T14:15:01.507522Z",
     "start_time": "2024-02-08T14:15:01.493531Z"
    }
   },
   "execution_count": 119,
   "outputs": [
    {
     "name": "stdout",
     "output_type": "stream",
     "text": [
      "Float to int -->  5\n",
      "Bool to int -->  1\n"
     ]
    }
   ]
  },
  {
   "cell_type": "markdown",
   "source": [
    "# IІІ. Рядки (String)."
   ],
   "metadata": {
    "id": "EVJ7AflwxrZi"
   }
  },
  {
   "cell_type": "markdown",
   "source": [
    "5. Створити пустий рядок двома різними способами."
   ],
   "metadata": {
    "id": "_s5ECzz9zE61"
   }
  },
  {
   "cell_type": "code",
   "source": [
    "str_1 = 'Hello '\n",
    "str_2 = str('word!!!')\n",
    "print(str_1, str_2)"
   ],
   "metadata": {
    "id": "fkZJHu9Scvc-",
    "ExecuteTime": {
     "end_time": "2024-02-08T14:15:01.549274Z",
     "start_time": "2024-02-08T14:15:01.509780Z"
    }
   },
   "execution_count": 120,
   "outputs": [
    {
     "ename": "TypeError",
     "evalue": "'str' object is not callable",
     "output_type": "error",
     "traceback": [
      "\u001B[0;31m---------------------------------------------------------------------------\u001B[0m",
      "\u001B[0;31mTypeError\u001B[0m                                 Traceback (most recent call last)",
      "Cell \u001B[0;32mIn[120], line 2\u001B[0m\n\u001B[1;32m      1\u001B[0m str_1 \u001B[38;5;241m=\u001B[39m \u001B[38;5;124m'\u001B[39m\u001B[38;5;124mHello \u001B[39m\u001B[38;5;124m'\u001B[39m\n\u001B[0;32m----> 2\u001B[0m str_2 \u001B[38;5;241m=\u001B[39m \u001B[38;5;28;43mstr\u001B[39;49m\u001B[43m(\u001B[49m\u001B[38;5;124;43m'\u001B[39;49m\u001B[38;5;124;43mword!!!\u001B[39;49m\u001B[38;5;124;43m'\u001B[39;49m\u001B[43m)\u001B[49m\n\u001B[1;32m      3\u001B[0m \u001B[38;5;28mprint\u001B[39m(str_1, str_2)\n",
      "\u001B[0;31mTypeError\u001B[0m: 'str' object is not callable"
     ]
    }
   ]
  },
  {
   "cell_type": "markdown",
   "source": [
    "6. Створити рядок з апострофом. Зробити його сирим. Вивести обидва рядка на екран."
   ],
   "metadata": {
    "id": "4Bdn9J3MzLf_"
   }
  },
  {
   "cell_type": "code",
   "source": [
    "str_1 = 'I am O\\'Neil'\n",
    "str_2 = r'I am O\\'Neil'\n",
    "print(str_1)\n",
    "print(str_2)"
   ],
   "metadata": {
    "id": "ivji_hsmc0GH",
    "ExecuteTime": {
     "end_time": "2024-02-08T14:15:01.566611Z",
     "start_time": "2024-02-08T14:15:01.519209Z"
    }
   },
   "execution_count": 121,
   "outputs": [
    {
     "name": "stdout",
     "output_type": "stream",
     "text": [
      "I am O'Neil\n",
      "I am O\\'Neil\n"
     ]
    }
   ]
  },
  {
   "cell_type": "markdown",
   "source": [
    "7. Створити змінну, що буде посилатися на Ваше прізвище латинкою. Створити форматований рядок, який буде мати вигляд \"My surname is ______\", де на місці нижніх підкреслень буде Ваше прізвище зі змінної."
   ],
   "metadata": {
    "id": "bg_d8wM4z8dS"
   }
  },
  {
   "cell_type": "code",
   "source": [
    "my_surname = 'Tarasenko'\n",
    "str = f'My surname is {my_surname}'\n",
    "print(str)"
   ],
   "metadata": {
    "id": "kuxFgpWndACq",
    "ExecuteTime": {
     "end_time": "2024-02-08T14:15:01.655456Z",
     "start_time": "2024-02-08T14:15:01.562351Z"
    }
   },
   "execution_count": 122,
   "outputs": [
    {
     "name": "stdout",
     "output_type": "stream",
     "text": [
      "My surname is Tarasenko\n"
     ]
    }
   ]
  },
  {
   "cell_type": "markdown",
   "source": [
    "8. Маючи рядок \"My dog is crazy.\" перетворити його на список [\"my\", \"dog\", \"is\", \"crazy\"]"
   ],
   "metadata": {
    "id": "1Nc6RqvQ0hxU"
   }
  },
  {
   "cell_type": "code",
   "source": [
    "str = 'My dog is crazy'\n",
    "list = str.lower().split()\n",
    "print(list)"
   ],
   "metadata": {
    "id": "w1Ya4RqedUhw",
    "ExecuteTime": {
     "end_time": "2024-02-08T14:15:01.673390Z",
     "start_time": "2024-02-08T14:15:01.607770Z"
    }
   },
   "execution_count": 123,
   "outputs": [
    {
     "name": "stdout",
     "output_type": "stream",
     "text": [
      "['my', 'dog', 'is', 'crazy']\n"
     ]
    }
   ]
  },
  {
   "cell_type": "markdown",
   "source": [
    "# IV. Робота зі списками."
   ],
   "metadata": {
    "id": "GYVqN9uP1D4n"
   }
  },
  {
   "cell_type": "markdown",
   "source": [
    "9. Створити список двома різними за синтаксисом способами. За допомогою вбудованої функції обчисліть довжину одного з них."
   ],
   "metadata": {
    "id": "7-DeDunw2sO-"
   }
  },
  {
   "cell_type": "code",
   "source": [
    "list_1 = ['a', 'b', 'c', 'd']\n",
    "list_2 = list(('a', 'b', 'c', 'd'))\n",
    "print(list_1)\n",
    "print(list_2)"
   ],
   "metadata": {
    "id": "zxg06Uuxdyoh",
    "ExecuteTime": {
     "end_time": "2024-02-08T14:15:01.722Z",
     "start_time": "2024-02-08T14:15:01.671999Z"
    }
   },
   "execution_count": 124,
   "outputs": [
    {
     "ename": "TypeError",
     "evalue": "'list' object is not callable",
     "output_type": "error",
     "traceback": [
      "\u001B[0;31m---------------------------------------------------------------------------\u001B[0m",
      "\u001B[0;31mTypeError\u001B[0m                                 Traceback (most recent call last)",
      "Cell \u001B[0;32mIn[124], line 2\u001B[0m\n\u001B[1;32m      1\u001B[0m list_1 \u001B[38;5;241m=\u001B[39m [\u001B[38;5;124m'\u001B[39m\u001B[38;5;124ma\u001B[39m\u001B[38;5;124m'\u001B[39m, \u001B[38;5;124m'\u001B[39m\u001B[38;5;124mb\u001B[39m\u001B[38;5;124m'\u001B[39m, \u001B[38;5;124m'\u001B[39m\u001B[38;5;124mc\u001B[39m\u001B[38;5;124m'\u001B[39m, \u001B[38;5;124m'\u001B[39m\u001B[38;5;124md\u001B[39m\u001B[38;5;124m'\u001B[39m]\n\u001B[0;32m----> 2\u001B[0m list_2 \u001B[38;5;241m=\u001B[39m \u001B[38;5;28;43mlist\u001B[39;49m\u001B[43m(\u001B[49m\u001B[43m(\u001B[49m\u001B[38;5;124;43m'\u001B[39;49m\u001B[38;5;124;43ma\u001B[39;49m\u001B[38;5;124;43m'\u001B[39;49m\u001B[43m,\u001B[49m\u001B[43m \u001B[49m\u001B[38;5;124;43m'\u001B[39;49m\u001B[38;5;124;43mb\u001B[39;49m\u001B[38;5;124;43m'\u001B[39;49m\u001B[43m,\u001B[49m\u001B[43m \u001B[49m\u001B[38;5;124;43m'\u001B[39;49m\u001B[38;5;124;43mc\u001B[39;49m\u001B[38;5;124;43m'\u001B[39;49m\u001B[43m,\u001B[49m\u001B[43m \u001B[49m\u001B[38;5;124;43m'\u001B[39;49m\u001B[38;5;124;43md\u001B[39;49m\u001B[38;5;124;43m'\u001B[39;49m\u001B[43m)\u001B[49m\u001B[43m)\u001B[49m\n\u001B[1;32m      3\u001B[0m \u001B[38;5;28mprint\u001B[39m(list_1)\n\u001B[1;32m      4\u001B[0m \u001B[38;5;28mprint\u001B[39m(list_2)\n",
      "\u001B[0;31mTypeError\u001B[0m: 'list' object is not callable"
     ]
    }
   ]
  },
  {
   "cell_type": "markdown",
   "source": [
    "10. Створіть два списка та за допомогою спеціального методу додайте другий з них в якості останнього елемента першого."
   ],
   "metadata": {
    "id": "8vmGUTjL22gI"
   }
  },
  {
   "cell_type": "code",
   "source": [
    "list_1 = [1, 2, 3, 4]\n",
    "list_2 = [5, 6, 7, 8]\n",
    "list_1.append(list_2)\n",
    "print(list_1)"
   ],
   "metadata": {
    "id": "uHtjWYw7d7hm",
    "ExecuteTime": {
     "end_time": "2024-02-08T14:15:29.669458Z",
     "start_time": "2024-02-08T14:15:29.647601Z"
    }
   },
   "execution_count": 134,
   "outputs": [
    {
     "name": "stdout",
     "output_type": "stream",
     "text": [
      "[1, 2, 3, 4, [5, 6, 7, 8]]\n"
     ]
    }
   ]
  },
  {
   "cell_type": "markdown",
   "source": [
    "11. Створіть список, де елементами цього списку також є списки. Отримай перший елемент з останнього рядка та виведи значення на екран."
   ],
   "metadata": {
    "id": "JC3BkD-67_--"
   }
  },
  {
   "cell_type": "code",
   "source": [
    "list = [[1, 2, 3], [2, 3, 4], [5, 6, 7]]\n",
    "print(list[2][0])"
   ],
   "metadata": {
    "id": "Kz2jZHsGeLlz",
    "ExecuteTime": {
     "end_time": "2024-02-08T14:15:01.741930Z",
     "start_time": "2024-02-08T14:15:01.728426Z"
    }
   },
   "execution_count": 126,
   "outputs": [
    {
     "name": "stdout",
     "output_type": "stream",
     "text": [
      "5\n"
     ]
    }
   ]
  },
  {
   "cell_type": "markdown",
   "source": [
    "12. Створіть список з десяти елементів різного типу. Отримайте всі елементи, окрім двох перших та двох останніх та збережіть їх в новій змінній."
   ],
   "metadata": {
    "id": "JA47PKTv8zFK"
   }
  },
  {
   "cell_type": "code",
   "source": [
    "list = [1, 2.0, '3', True, False, '4', 5.0, 6, True, False]\n",
    "list_2 = list[2:-2]\n",
    "print(list_2)"
   ],
   "metadata": {
    "id": "_rHdUR-ueP4-",
    "ExecuteTime": {
     "end_time": "2024-02-08T14:16:37.518673Z",
     "start_time": "2024-02-08T14:16:37.486827Z"
    }
   },
   "execution_count": 135,
   "outputs": [
    {
     "name": "stdout",
     "output_type": "stream",
     "text": [
      "['3', True, False, '4', 5.0, 6]\n"
     ]
    }
   ]
  },
  {
   "cell_type": "markdown",
   "source": [
    "# V. Робота з кортежами."
   ],
   "metadata": {
    "id": "pCjR1dJb1Qbi"
   }
  },
  {
   "cell_type": "markdown",
   "source": [
    "14. Створити кортеж з один елементом."
   ],
   "metadata": {
    "id": "fAZCxAX06R_k"
   }
  },
  {
   "cell_type": "code",
   "source": [
    "tuple = (1)\n",
    "print(tuple)"
   ],
   "metadata": {
    "id": "H7d82WkQev3e",
    "ExecuteTime": {
     "end_time": "2024-02-08T14:15:01.788962Z",
     "start_time": "2024-02-08T14:15:01.778464Z"
    }
   },
   "execution_count": 128,
   "outputs": [
    {
     "name": "stdout",
     "output_type": "stream",
     "text": [
      "1\n"
     ]
    }
   ]
  },
  {
   "cell_type": "markdown",
   "source": [
    "15. Порівняйте список та кортеж. Назвіть схожості та відмінності, випадки використання."
   ],
   "metadata": {
    "id": "8LCtYcmI6w1M"
   }
  },
  {
   "cell_type": "markdown",
   "source": [
    "Різниця між кортежем та списком, полягає у тому, що кортеж після створення неможливо редагувати, також вони трохи швидше відпрацьовують ніж списки. А інше, схоже, вони використовуються для зберігання об'єктів різних типів."
   ],
   "metadata": {
    "id": "fUsN1Hnue0C6"
   }
  },
  {
   "cell_type": "markdown",
   "source": [
    "16. Створіть кортеж з 11ти елементів чисел з рухомою комою та отримайте кожен парний за індексом елемент в зворотньому порядку. Наприклад, маючи (1.2, 2.3, 3.3, 4.3, 5.3, 6.3, 7.3, 8.3, 9.3, 0.3), отримати (0.3, 8.3, 6.3, 4.3, 2.3). Результат збережіть в нову змінну та виведіть на екран."
   ],
   "metadata": {
    "id": "m0xrwFijAmDD"
   }
  },
  {
   "cell_type": "code",
   "source": [
    "tuple = (1.2, 2.3, 3.3, 4.3, 5.3, 6.3, 7.3, 8.3, 9.3, 0.3)\n",
    "tuple_2 = tuple[::-2]\n",
    "print(tuple_2)"
   ],
   "metadata": {
    "id": "p-5DAH6XfAGA",
    "ExecuteTime": {
     "end_time": "2024-02-08T14:15:01.789524Z",
     "start_time": "2024-02-08T14:15:01.783474Z"
    }
   },
   "execution_count": 129,
   "outputs": [
    {
     "name": "stdout",
     "output_type": "stream",
     "text": [
      "(0.3, 8.3, 6.3, 4.3, 2.3)\n"
     ]
    }
   ]
  },
  {
   "cell_type": "markdown",
   "source": [
    "# VI. Множини (Set)."
   ],
   "metadata": {
    "id": "rW_I9dt3x6cW"
   }
  },
  {
   "cell_type": "markdown",
   "source": [
    "17. Створити множину без елементів. Після цого за допомогою методу додайте кілька різних елементів до множини. Чи множини є змінним типом даних?"
   ],
   "metadata": {
    "id": "zNjRLHLw1Bgg"
   }
  },
  {
   "cell_type": "code",
   "source": [
    "set = set()\n",
    "set.add(1)\n",
    "set.add(2)\n",
    "print(set)"
   ],
   "metadata": {
    "id": "KOv7zc2Kfo4N",
    "ExecuteTime": {
     "end_time": "2024-02-08T14:26:13.016387Z",
     "start_time": "2024-02-08T14:26:13.008176Z"
    }
   },
   "execution_count": 140,
   "outputs": [
    {
     "ename": "AttributeError",
     "evalue": "'tuple' object has no attribute 'add'",
     "output_type": "error",
     "traceback": [
      "\u001B[0;31m---------------------------------------------------------------------------\u001B[0m",
      "\u001B[0;31mAttributeError\u001B[0m                            Traceback (most recent call last)",
      "Cell \u001B[0;32mIn[140], line 2\u001B[0m\n\u001B[1;32m      1\u001B[0m \u001B[38;5;28mset\u001B[39m \u001B[38;5;241m=\u001B[39m ()\n\u001B[0;32m----> 2\u001B[0m \u001B[38;5;28;43mset\u001B[39;49m\u001B[38;5;241;43m.\u001B[39;49m\u001B[43madd\u001B[49m(\u001B[38;5;241m1\u001B[39m)\n\u001B[1;32m      3\u001B[0m \u001B[38;5;28mset\u001B[39m\u001B[38;5;241m.\u001B[39madd(\u001B[38;5;241m2\u001B[39m)\n\u001B[1;32m      4\u001B[0m \u001B[38;5;28mprint\u001B[39m(\u001B[38;5;28mset\u001B[39m)\n",
      "\u001B[0;31mAttributeError\u001B[0m: 'tuple' object has no attribute 'add'"
     ]
    }
   ]
  },
  {
   "cell_type": "markdown",
   "source": [
    "В множинах, ми не можемо змінювати самі елементи, але можемо добавляти нові, або видаляти існуючі"
   ],
   "metadata": {
    "id": "vxS6dVYiftZQ"
   }
  },
  {
   "cell_type": "markdown",
   "source": [
    "18. Створити множину, маючи список my_list = [1, 1, 2, 67, 67, 8, 9]. Пояснити, чому \"зникли\" деякі елементи."
   ],
   "metadata": {
    "id": "gHpT0Zw_1HEF"
   }
  },
  {
   "cell_type": "code",
   "source": [
    "my_list = [1, 1, 2, 67, 67, 8, 9]\n",
    "set = set(my_list)\n",
    "print(set)"
   ],
   "metadata": {
    "id": "qCN4uvJ_fxmu",
    "ExecuteTime": {
     "end_time": "2024-02-08T14:22:24.981638Z",
     "start_time": "2024-02-08T14:22:24.956682Z"
    }
   },
   "execution_count": 137,
   "outputs": [
    {
     "ename": "TypeError",
     "evalue": "'tuple' object is not callable",
     "output_type": "error",
     "traceback": [
      "\u001B[0;31m---------------------------------------------------------------------------\u001B[0m",
      "\u001B[0;31mTypeError\u001B[0m                                 Traceback (most recent call last)",
      "Cell \u001B[0;32mIn[137], line 2\u001B[0m\n\u001B[1;32m      1\u001B[0m my_list \u001B[38;5;241m=\u001B[39m [\u001B[38;5;241m1\u001B[39m, \u001B[38;5;241m1\u001B[39m, \u001B[38;5;241m2\u001B[39m, \u001B[38;5;241m67\u001B[39m, \u001B[38;5;241m67\u001B[39m, \u001B[38;5;241m8\u001B[39m, \u001B[38;5;241m9\u001B[39m]\n\u001B[0;32m----> 2\u001B[0m \u001B[38;5;28mset\u001B[39m \u001B[38;5;241m=\u001B[39m \u001B[38;5;28;43mset\u001B[39;49m\u001B[43m(\u001B[49m\u001B[43mmy_list\u001B[49m\u001B[43m)\u001B[49m\n\u001B[1;32m      3\u001B[0m \u001B[38;5;28mprint\u001B[39m(\u001B[38;5;28mset\u001B[39m)\n",
      "\u001B[0;31mTypeError\u001B[0m: 'tuple' object is not callable"
     ]
    }
   ]
  },
  {
   "cell_type": "markdown",
   "source": [
    "В множинах немає дублікатів"
   ],
   "metadata": {
    "id": "tFNc1e20fyny"
   }
  },
  {
   "cell_type": "markdown",
   "source": [
    "19. Створіть дві множини. Продемонстуйте над ними операції: обʼєднання, різниці, пересічі та симетричної різниці. Використовуйте методи, що не змінюють множини, а створюють нові."
   ],
   "metadata": {
    "id": "SRMkGizS1UwY"
   }
  },
  {
   "cell_type": "code",
   "source": [
    "set_1 = {1, 2, 3}\n",
    "set_2 = {3, 4, 5}\n",
    "print(set_1.union(set_2))\n",
    "print(set_1.difference(set_2))\n",
    "print(set_1.intersection(set_2))\n",
    "print(set_1.symmetric_difference(set_2))"
   ],
   "metadata": {
    "id": "h0T-VuDnf3Ri",
    "ExecuteTime": {
     "end_time": "2024-02-08T14:15:01.830249Z",
     "start_time": "2024-02-08T14:15:01.803893Z"
    }
   },
   "execution_count": 131,
   "outputs": [
    {
     "name": "stdout",
     "output_type": "stream",
     "text": [
      "{1, 2, 3, 4, 5}\n",
      "{1, 2}\n",
      "{3}\n",
      "{1, 2, 4, 5}\n"
     ]
    }
   ]
  },
  {
   "cell_type": "markdown",
   "source": [
    "# VII. Словники (Dictionary)."
   ],
   "metadata": {
    "id": "kWc8gkzTx7Ea"
   }
  },
  {
   "cell_type": "markdown",
   "source": [
    "20. Створіть пустий словник. До нього додайте чотири пари елементів такі, щоб їхні ключі були різних типів. Чи може список бути ключем? Чому?"
   ],
   "metadata": {
    "id": "i5FLwj-B2ybQ"
   }
  },
  {
   "cell_type": "code",
   "source": [
    "dict = {}\n",
    "dict[True] = 1\n",
    "dict[2] = 2\n",
    "dict[3.0] = 3\n",
    "dict['4'] = 4\n",
    "print(dict)"
   ],
   "metadata": {
    "id": "hxgv3BzrgLAV",
    "ExecuteTime": {
     "end_time": "2024-02-08T14:25:57.398305Z",
     "start_time": "2024-02-08T14:25:57.381563Z"
    }
   },
   "execution_count": 139,
   "outputs": [
    {
     "name": "stdout",
     "output_type": "stream",
     "text": [
      "{True: 1, 2: 2, 3.0: 3, '4': 4}\n"
     ]
    }
   ]
  },
  {
   "cell_type": "markdown",
   "source": [
    "Списки не можна використовувати, як ключ, бо вони змінні"
   ],
   "metadata": {
    "id": "zwa7UVN-gR3m"
   }
  },
  {
   "cell_type": "markdown",
   "source": [
    "21. Створіть словник, де значенням в одній з пар теж буде словник, який теж має вкладений словник. Виведіть на екран значення, що міститься в словнику, що знаходиться на найнижчому рівні ієрархії вкладеності (найбільш внутрішній)."
   ],
   "metadata": {
    "id": "WM_pMlJsgoNf"
   }
  },
  {
   "cell_type": "code",
   "source": [
    "dict_1 = {1: 1}\n",
    "dict_2 = {2: dict_1}\n",
    "dict_3 = {3: dict_2}\n",
    "print(dict_3.get(3).get(2).get(1))"
   ],
   "metadata": {
    "id": "60dlP7IHhAy4",
    "ExecuteTime": {
     "end_time": "2024-02-08T14:15:01.879450Z",
     "start_time": "2024-02-08T14:15:01.862507Z"
    }
   },
   "execution_count": 133,
   "outputs": [
    {
     "name": "stdout",
     "output_type": "stream",
     "text": [
      "1\n"
     ]
    }
   ]
  },
  {
   "cell_type": "markdown",
   "source": [
    "# Вітаю! Ви велика(ий) молодець, що впоралась(вся). Похваліть себе та побалуйте чимось приємним. Я Вами пишаюся."
   ],
   "metadata": {
    "id": "xOZP0hkx6cCr"
   }
  }
 ]
}
