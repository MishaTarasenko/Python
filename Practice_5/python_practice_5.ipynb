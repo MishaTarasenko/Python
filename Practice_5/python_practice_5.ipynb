{
 "nbformat": 4,
 "nbformat_minor": 0,
 "metadata": {
  "colab": {
   "provenance": []
  },
  "kernelspec": {
   "name": "python3",
   "language": "python",
   "display_name": "Python 3 (ipykernel)"
  },
  "language_info": {
   "name": "python"
  }
 },
 "cells": [
  {
   "cell_type": "markdown",
   "source": [
    "# I. OOP"
   ],
   "metadata": {
    "id": "5qV_sehzFCTp"
   }
  },
  {
   "cell_type": "markdown",
   "source": [
    "1. (6б). Створіть клас Animal, додайте три атрибути, один з яких має значення за замовчуванням та два методи на свій розсуд."
   ],
   "metadata": {
    "id": "tx_U_hOALyfg"
   }
  },
  {
   "cell_type": "code",
   "source": [
    "class Animal:\n",
    "    def __init__(self, species, age, name = \"My Pat\"):\n",
    "        self.species = species\n",
    "        self.age = age\n",
    "        self.name = name\n",
    "    def __str__(self):\n",
    "        return f\"Pet whit name --> {self.name}, species --> {self.species}, age --> {self.age}\"\n",
    "    def voice(self):\n",
    "        return f\"I am {self.name}\""
   ],
   "metadata": {
    "id": "-Vf895KaL88N",
    "ExecuteTime": {
     "end_time": "2024-03-04T16:23:12.232808Z",
     "start_time": "2024-03-04T16:23:12.219459Z"
    }
   },
   "execution_count": 13,
   "outputs": []
  },
  {
   "cell_type": "markdown",
   "source": [
    "2. (2б). Створіть два обʼєкти цього класу, де один з обʼєктів створюється із дефолтним значенням атрибуту. На одному обʼєкті отримайте значення його атрибуту, а на іншому викличте один з його методів."
   ],
   "metadata": {
    "id": "X_UlOMB0L93w"
   }
  },
  {
   "cell_type": "code",
   "source": [
    "dog = Animal(\"dog\", 2)\n",
    "cat = Animal(\"cat\", 4, \"Lucky\")\n",
    "print(dog.name)\n",
    "print(cat.voice())"
   ],
   "metadata": {
    "id": "7gBu0ESOMCpG",
    "ExecuteTime": {
     "end_time": "2024-03-04T16:23:50.724623Z",
     "start_time": "2024-03-04T16:23:50.719643Z"
    }
   },
   "execution_count": 14,
   "outputs": [
    {
     "name": "stdout",
     "output_type": "stream",
     "text": [
      "My Pat\n",
      "I am Lucky\n"
     ]
    }
   ]
  },
  {
   "cell_type": "markdown",
   "source": [
    "3. (5б). Створіть клас, де атрибути мають різні рівні доступу. Спробуйте отримати їхні значення та опишіть результати."
   ],
   "metadata": {
    "id": "HoqSCZt1MHn5"
   }
  },
  {
   "cell_type": "code",
   "source": [
    "class Car:\n",
    "    def __init__(self, brand, engine, gear, color, mileage):\n",
    "        self.brand = brand\n",
    "        self.engine = engine\n",
    "        self.gear = gear\n",
    "        self.color = color\n",
    "        self.__mileage = mileage\n",
    "    def get_mileage(self):\n",
    "        return self.__mileage\n",
    "    \n",
    "    \n",
    "my_car = Car(\"audi\", \"8l\", 8, \"black\", 15097)\n",
    "print(my_car.brand)\n",
    "# print(my_car.__mileage) ми не можемо доступитися до __mileage так як вона недоступна ззовні класу (private)\n",
    "print(my_car.get_mileage())"
   ],
   "metadata": {
    "id": "r9b3vJxBMSPV",
    "ExecuteTime": {
     "end_time": "2024-03-04T16:23:54.698645Z",
     "start_time": "2024-03-04T16:23:54.692493Z"
    }
   },
   "execution_count": 15,
   "outputs": [
    {
     "name": "stdout",
     "output_type": "stream",
     "text": [
      "audi\n",
      "15097\n"
     ]
    }
   ]
  },
  {
   "cell_type": "markdown",
   "source": [
    "4. (7б). Як ви розумієте термін self? Для чого використовується метод __init __?"
   ],
   "metadata": {
    "id": "5op2m2vgMSkZ"
   }
  },
  {
   "cell_type": "markdown",
   "source": [
    "Self це екземпляр класу, на якому викликається метод. __init__ використовується для ініціалізації об'єкта."
   ],
   "metadata": {
    "id": "DyiPqNRvMasx"
   }
  },
  {
   "cell_type": "markdown",
   "source": [
    "5. (9б). Створіть клас Фігура без атрибутів, з методом get_area для отримання площі фігури, що повертає 0 та __add __, який приймає self та other в якості аргументів, а повертає суму площин фігур self та other."
   ],
   "metadata": {
    "id": "-6X8EGfjMd2y"
   }
  },
  {
   "cell_type": "code",
   "source": [
    "class Figure:\n",
    "    def get_area(self):\n",
    "        return 0\n",
    "    def __add__(self, other):\n",
    "        return self.get_area() + other.get_area()"
   ],
   "metadata": {
    "id": "4rvO_wYUMaEr",
    "ExecuteTime": {
     "end_time": "2024-03-04T16:23:57.633770Z",
     "start_time": "2024-03-04T16:23:57.625298Z"
    }
   },
   "execution_count": 16,
   "outputs": []
  },
  {
   "cell_type": "markdown",
   "source": [
    "6. (11б). Створіть 2 дочірніх класи від Фігури: Трикутник та Коло, які мають атрибути, необхідні для розрахунку площин. Визначте метод get_area в кожному з них так, щоби вони розраховували площу в залежності від формули для кожного типу фігури. Створіть обʼєкт класу Трикутник та обʼєкт класу Коло. Виконайте операцію суми за допомогою оператора + між ними."
   ],
   "metadata": {
    "id": "SFcKnnv5Mo_z"
   }
  },
  {
   "cell_type": "code",
   "source": [
    "import math\n",
    "class Triangle(Figure):\n",
    "    def __init__(self, a, b , c):\n",
    "        self.a = a\n",
    "        self.b = b\n",
    "        self.c = c\n",
    "    def get_area(self):\n",
    "        s = (self.a + self.b + self.c) / 2\n",
    "        return math.sqrt(s * (s - self.a) * (s - self.b) * (s - self.c))\n",
    "\n",
    "\n",
    "class Circle(Figure):\n",
    "    def __init__(self, r):\n",
    "        self.r = r\n",
    "    def get_area(self):\n",
    "        return math.pi * self.r**2\n",
    "\n",
    "\n",
    "triangle = Triangle(5, 5, 5)\n",
    "circle = Circle(5)\n",
    "print(triangle + circle)"
   ],
   "metadata": {
    "id": "H3GVNr69Muf3",
    "ExecuteTime": {
     "end_time": "2024-03-04T16:24:01.734715Z",
     "start_time": "2024-03-04T16:24:01.728943Z"
    }
   },
   "execution_count": 17,
   "outputs": [
    {
     "name": "stdout",
     "output_type": "stream",
     "text": [
      "89.36513388705032\n"
     ]
    }
   ]
  },
  {
   "cell_type": "markdown",
   "source": [
    "7. (3б). Продемонструйте різницю між isinstance та issubclass."
   ],
   "metadata": {
    "id": "HCvR206YMvLK"
   }
  },
  {
   "cell_type": "code",
   "source": [
    "print(isinstance(triangle, Triangle))\n",
    "print(isinstance(circle, Triangle))\n",
    "print(issubclass(Triangle, Circle))\n",
    "print(issubclass(Triangle, Figure))"
   ],
   "metadata": {
    "id": "L_V1bBvDM0GN"
   },
   "execution_count": null,
   "outputs": []
  },
  {
   "cell_type": "markdown",
   "source": [
    "8. (13б). Створіть клас BankAccount з приватними атрибутами balance та account_number. Реалізуйте методи поповнення та зняття коштів, забезпечивши належну інкапсуляцію. Підказка: використовуйте декоратори property та setter."
   ],
   "metadata": {
    "id": "jjsaBZ-iM0Qq"
   }
  },
  {
   "cell_type": "code",
   "source": [
    "class BankAccount:\n",
    "    def __init__(self, initial_balance, account_number):\n",
    "        self.__balance = initial_balance\n",
    "        self.__account_number = account_number\n",
    "    @property\n",
    "    def balance(self):\n",
    "        return self.__balance\n",
    "    @property\n",
    "    def account_number(self):\n",
    "        return self.__account_number \n",
    "    @balance.setter\n",
    "    def new_balance(self, amount):\n",
    "        if amount >= 0:\n",
    "            self.__balance = amount\n",
    "        else:\n",
    "            print(\"Invalid\")\n",
    "    def replenishment(self, amount):\n",
    "        if amount >= 0 :\n",
    "            self.new_balance = self.balance + amount\n",
    "        else:\n",
    "            print(\"Amount can't be negative\")\n",
    "    def withdraw(self, amount):\n",
    "        if amount <= self.__balance :\n",
    "            self.new_balance = self.balance - amount\n",
    "        else:\n",
    "            print(\"Amount can't be greater than the balance\")\n",
    "\n",
    "\n",
    "bank = BankAccount(2000, 1)\n",
    "print(bank.balance)\n",
    "bank.replenishment(1500)\n",
    "print(bank.balance)\n",
    "bank.withdraw(3500)\n",
    "print(bank.balance)"
   ],
   "metadata": {
    "id": "xCvZ7lh8M7YA",
    "ExecuteTime": {
     "end_time": "2024-03-04T16:24:05.561518Z",
     "start_time": "2024-03-04T16:24:05.516343Z"
    }
   },
   "execution_count": 18,
   "outputs": [
    {
     "name": "stdout",
     "output_type": "stream",
     "text": [
      "2000\n",
      "3500\n",
      "0\n"
     ]
    }
   ]
  },
  {
   "cell_type": "markdown",
   "source": [
    "9. (11б). Створіть клас Library, який містить список об'єктів типу Book. Реалізуйте методи для додавання книги, видалення книги та відображення списку книг."
   ],
   "metadata": {
    "id": "tIzL2SJTM8ft"
   }
  },
  {
   "cell_type": "code",
   "source": [
    "class Book:\n",
    "    def __init__(self, title, author):\n",
    "        self.name = title\n",
    "        self.author = author\n",
    "        \n",
    "        \n",
    "class Library:\n",
    "    def __init__(self):\n",
    "        self.books = list()\n",
    "    def add_book(self, book):\n",
    "        self.books.append(book)\n",
    "    def remove_book(self, book):\n",
    "        if book in self.books:\n",
    "            self.books.remove(book)\n",
    "    def printBooks(self):\n",
    "        if self.books:\n",
    "            for book in self.books:\n",
    "                print(f\"Title: {book.name}, Author: {book.author}\")\n",
    "        else:\n",
    "            print(\"No books found\")\n",
    "\n",
    "\n",
    "book_1 = Book(\"Dune\", \"Frank Herbert\")\n",
    "book_2 = Book(\"Dune Messiah\", \"Frank Herbert\")\n",
    "book_3 = Book(\"Children Of Dune\", \"Frank Herbert\")\n",
    "book_4 = Book(\"God Emperor of Dune\", \"Frank Herbert\")\n",
    "library = Library()\n",
    "library.add_book(book_1)\n",
    "library.add_book(book_2)\n",
    "library.add_book(book_3)\n",
    "library.add_book(book_4)\n",
    "library.printBooks()\n",
    "print()\n",
    "print()\n",
    "library.remove_book(book_3)\n",
    "library.remove_book(book_4)\n",
    "library.printBooks()"
   ],
   "metadata": {
    "id": "HWxfJKLtNAUZ",
    "ExecuteTime": {
     "end_time": "2024-03-04T16:24:11.365253Z",
     "start_time": "2024-03-04T16:24:11.361375Z"
    }
   },
   "execution_count": 19,
   "outputs": [
    {
     "name": "stdout",
     "output_type": "stream",
     "text": [
      "Title: Dune, Author: Frank Herbert\n",
      "Title: Dune Messiah, Author: Frank Herbert\n",
      "Title: Children Of Dune, Author: Frank Herbert\n",
      "Title: God Emperor of Dune, Author: Frank Herbert\n",
      "\n",
      "\n",
      "Title: Dune, Author: Frank Herbert\n",
      "Title: Dune Messiah, Author: Frank Herbert\n"
     ]
    }
   ]
  },
  {
   "cell_type": "markdown",
   "source": [
    "10. (13б). Створіть клас Person з атрибутами name та age. Створіть ще один клас Employee з такими атрибутами, як department та salary. Створіть клас Manager, який успадковує обидва класи Person та Employee. Продемонструйте використання множинної спадковості, створивши обʼєкт класу Manager та отримавши mro для цього класу."
   ],
   "metadata": {
    "id": "lmV8pAwwNIqu"
   }
  },
  {
   "cell_type": "code",
   "source": [
    "class Person:\n",
    "    def __init__(self, name, age):\n",
    "        self.name = name\n",
    "        self.age = age\n",
    "    def get_info(self):\n",
    "        print(f\"Name: {self.name}, Age: {self.age}\")\n",
    "        \n",
    "        \n",
    "class Employee:\n",
    "    def __init__(self, department, salary):\n",
    "        self.department = department\n",
    "        self.salary = salary\n",
    "    def get_info(self):\n",
    "        print(f\"Department: {self.department}, Salary: {self.salary}\")\n",
    "        \n",
    "        \n",
    "class Manager(Person, Employee):\n",
    "    def __init__(self, name, age, department, salary):\n",
    "        Person.__init__(self, name, age)\n",
    "        Employee.__init__(self, department, salary)\n",
    "    def get_info(self):\n",
    "        Person.get_info(self)\n",
    "        Employee.get_info(self)\n",
    "        \n",
    "        \n",
    "manager1 = Manager(\"Misha\", 18, \"developer\", 15000)\n",
    "manager1.get_info()\n",
    "print(Manager.mro())"
   ],
   "metadata": {
    "id": "R49grKlWNPeN",
    "ExecuteTime": {
     "end_time": "2024-03-04T16:24:14.579588Z",
     "start_time": "2024-03-04T16:24:14.573975Z"
    }
   },
   "execution_count": 20,
   "outputs": [
    {
     "name": "stdout",
     "output_type": "stream",
     "text": [
      "Name: Misha, Age: 18\n",
      "Department: developer, Salary: 15000\n",
      "[<class '__main__.Manager'>, <class '__main__.Person'>, <class '__main__.Employee'>, <class 'object'>]\n"
     ]
    }
   ]
  },
  {
   "cell_type": "markdown",
   "source": [
    "# II. Iterator"
   ],
   "metadata": {
    "id": "dIJyUiNBFG8G"
   }
  },
  {
   "cell_type": "markdown",
   "source": [
    "11. (4б). Визначте рядок(str) з 4ма різними за значенням символами. Створіть ітератор на основі цього рядка. Викличте 5 разів функцію next на ітераторі, 4ри перших з них огорніть у ф-цію print()."
   ],
   "metadata": {
    "id": "13vsm0NyKIzL"
   }
  },
  {
   "cell_type": "code",
   "source": [
    "my_str = \"abcd\"\n",
    "my_iterator = iter(my_str)\n",
    "\n",
    "print(next(my_iterator))\n",
    "print(next(my_iterator))\n",
    "print(next(my_iterator))\n",
    "print(next(my_iterator))\n",
    "next(my_iterator)"
   ],
   "metadata": {
    "id": "81ntabAkKuz-",
    "ExecuteTime": {
     "end_time": "2024-03-04T16:24:19.168171Z",
     "start_time": "2024-03-04T16:24:19.143736Z"
    }
   },
   "execution_count": 21,
   "outputs": [
    {
     "name": "stdout",
     "output_type": "stream",
     "text": [
      "a\n",
      "b\n",
      "c\n",
      "d\n"
     ]
    },
    {
     "ename": "StopIteration",
     "evalue": "",
     "output_type": "error",
     "traceback": [
      "\u001B[0;31m---------------------------------------------------------------------------\u001B[0m",
      "\u001B[0;31mStopIteration\u001B[0m                             Traceback (most recent call last)",
      "Cell \u001B[0;32mIn[21], line 8\u001B[0m\n\u001B[1;32m      6\u001B[0m \u001B[38;5;28mprint\u001B[39m(\u001B[38;5;28mnext\u001B[39m(my_iterator))\n\u001B[1;32m      7\u001B[0m \u001B[38;5;28mprint\u001B[39m(\u001B[38;5;28mnext\u001B[39m(my_iterator))\n\u001B[0;32m----> 8\u001B[0m \u001B[38;5;28;43mnext\u001B[39;49m\u001B[43m(\u001B[49m\u001B[43mmy_iterator\u001B[49m\u001B[43m)\u001B[49m\n",
      "\u001B[0;31mStopIteration\u001B[0m: "
     ]
    }
   ]
  },
  {
   "cell_type": "markdown",
   "source": [
    "А що якщо викликати цю ж функцію на рядку?"
   ],
   "metadata": {
    "id": "aekWHGXOLRsO"
   }
  },
  {
   "cell_type": "code",
   "source": [
    "next(my_str)"
   ],
   "metadata": {
    "id": "mxATGsErLV1i",
    "ExecuteTime": {
     "end_time": "2024-03-04T16:24:22.495026Z",
     "start_time": "2024-03-04T16:24:22.469054Z"
    }
   },
   "execution_count": 22,
   "outputs": [
    {
     "ename": "TypeError",
     "evalue": "'str' object is not an iterator",
     "output_type": "error",
     "traceback": [
      "\u001B[0;31m---------------------------------------------------------------------------\u001B[0m",
      "\u001B[0;31mTypeError\u001B[0m                                 Traceback (most recent call last)",
      "Cell \u001B[0;32mIn[22], line 1\u001B[0m\n\u001B[0;32m----> 1\u001B[0m \u001B[38;5;28;43mnext\u001B[39;49m\u001B[43m(\u001B[49m\u001B[43mmy_str\u001B[49m\u001B[43m)\u001B[49m\n",
      "\u001B[0;31mTypeError\u001B[0m: 'str' object is not an iterator"
     ]
    }
   ]
  },
  {
   "cell_type": "markdown",
   "source": [
    " 12. (5б). Опишіть своїми словами в одному реченні, як ви розумієте різницю між ітерабельними обʼєктами та ітераторами (можна на прикладі)."
   ],
   "metadata": {
    "id": "XwtMEopwJ4pH"
   }
  },
  {
   "cell_type": "markdown",
   "source": [
    "Ітерабельні об'єкти - це колекції, які можна ітерувати. Ітератори - це об'єкти, які зберігають свій стан під час ітерації, та мають метод next."
   ],
   "metadata": {
    "id": "-sHrODc3KFn8"
   }
  },
  {
   "cell_type": "markdown",
   "source": [
    "13. (11б). Створіть клас, що має визначений Iterator Protocol та при кожному виклику next повертає літери англійської абетки, поки вони не вичерпаються."
   ],
   "metadata": {
    "id": "E9qJWmNbK8Gl"
   }
  },
  {
   "cell_type": "code",
   "source": [
    "class AlphabetIterator:\n",
    "    def __init__(self):\n",
    "        self.cur_char = ord('a')\n",
    "    def __iter__(self):\n",
    "        return self\n",
    "    def __next__(self):\n",
    "        if self.cur_char <= ord('z'):\n",
    "            res = chr(self.cur_char)\n",
    "            self.cur_char +=1\n",
    "            return res\n",
    "        else:\n",
    "            raise StopIteration\n",
    "\n",
    "\n",
    "iterator = AlphabetIterator()\n",
    "for ch in range(27):\n",
    "    print(next(iterator))"
   ],
   "metadata": {
    "id": "cqx-g_RsLo6I",
    "ExecuteTime": {
     "end_time": "2024-03-04T16:24:25.165739Z",
     "start_time": "2024-03-04T16:24:25.116644Z"
    }
   },
   "execution_count": 23,
   "outputs": [
    {
     "name": "stdout",
     "output_type": "stream",
     "text": [
      "a\n",
      "b\n",
      "c\n",
      "d\n",
      "e\n",
      "f\n",
      "g\n",
      "h\n",
      "i\n",
      "j\n",
      "k\n",
      "l\n",
      "m\n",
      "n\n",
      "o\n",
      "p\n",
      "q\n",
      "r\n",
      "s\n",
      "t\n",
      "u\n",
      "v\n",
      "w\n",
      "x\n",
      "y\n",
      "z\n"
     ]
    },
    {
     "ename": "StopIteration",
     "evalue": "",
     "output_type": "error",
     "traceback": [
      "\u001B[0;31m---------------------------------------------------------------------------\u001B[0m",
      "\u001B[0;31mStopIteration\u001B[0m                             Traceback (most recent call last)",
      "Cell \u001B[0;32mIn[23], line 17\u001B[0m\n\u001B[1;32m     15\u001B[0m iterator \u001B[38;5;241m=\u001B[39m AlphabetIterator()\n\u001B[1;32m     16\u001B[0m \u001B[38;5;28;01mfor\u001B[39;00m ch \u001B[38;5;129;01min\u001B[39;00m \u001B[38;5;28mrange\u001B[39m(\u001B[38;5;241m27\u001B[39m):\n\u001B[0;32m---> 17\u001B[0m     \u001B[38;5;28mprint\u001B[39m(\u001B[38;5;28;43mnext\u001B[39;49m\u001B[43m(\u001B[49m\u001B[43miterator\u001B[49m\u001B[43m)\u001B[49m)\n",
      "Cell \u001B[0;32mIn[23], line 12\u001B[0m, in \u001B[0;36mAlphabetIterator.__next__\u001B[0;34m(self)\u001B[0m\n\u001B[1;32m     10\u001B[0m     \u001B[38;5;28;01mreturn\u001B[39;00m res\n\u001B[1;32m     11\u001B[0m \u001B[38;5;28;01melse\u001B[39;00m:\n\u001B[0;32m---> 12\u001B[0m     \u001B[38;5;28;01mraise\u001B[39;00m \u001B[38;5;167;01mStopIteration\u001B[39;00m\n",
      "\u001B[0;31mStopIteration\u001B[0m: "
     ]
    }
   ]
  },
  {
   "cell_type": "markdown",
   "source": [
    "# Вітаю! Ви велика(ий) молодець, що впоралась(вся). Похваліть себе та побалуйте чимось приємним. Я Вами пишаюся."
   ],
   "metadata": {
    "id": "Z3E3S_s1Fv7-"
   }
  }
 ]
}
